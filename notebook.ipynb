{
 "cells": [
  {
   "cell_type": "code",
   "execution_count": 4,
   "metadata": {},
   "outputs": [],
   "source": [
    "import threading\n",
    "import numpy as np\n",
    "import requests\n",
    "import yaml\n",
    "\n",
    "def get_data_from_endpoint():\n",
    "    url = \"https://api.gateio.ws/api/v4/spot/tickers\"\n",
    "    response = requests.get(url)\n",
    "    if response.status_code == 200:\n",
    "        data = response.json()\n",
    "        list_cur_date = []\n",
    "        list_cur_time = []\n",
    "        list_market = []\n",
    "        list_symbol = []\n",
    "        list_cash = []\n",
    "        list_price = []\n",
    "\n",
    "        for i in range(len(data)):\n",
    "            list_market.append(\"gate\")\n",
    "            list_symbol.append(data[i][\"currency_pair\"])\n",
    "            list_cash.append(data[i][\"currency_pair\"])\n",
    "            list_price.append(float(data[i][\"last\"]))\n",
    "\n",
    "        dict_market = {\n",
    "            \"MARKET\": list_market,\n",
    "            \"SYMBOL\": list_symbol,\n",
    "            \"CASH\": list_cash,\n",
    "            \"PRICE\": list_price,\n",
    "        }\n",
    "        return dict_market\n",
    "    else:\n",
    "        print(\"Failed to fetch data from the endpoint\")\n",
    "\n",
    "\n",
    "\n",
    "dict_market = get_data_from_endpoint()\n"
   ]
  },
  {
   "cell_type": "code",
   "execution_count": 5,
   "metadata": {},
   "outputs": [],
   "source": [
    "import pandas as pd\n",
    "\n",
    "df1 = pd.DataFrame(dict_market)"
   ]
  },
  {
   "cell_type": "code",
   "execution_count": 14,
   "metadata": {},
   "outputs": [],
   "source": [
    "a = list(df1[\"SYMBOL\"].unique())\n",
    "b = []\n",
    "\n",
    "for i in a:\n",
    "    j = i.find(\"_\")\n",
    "    b.append(i[j+1:])"
   ]
  },
  {
   "cell_type": "code",
   "execution_count": 16,
   "metadata": {},
   "outputs": [
    {
     "data": {
      "text/plain": [
       "{'BTC', 'CNYX', 'ETH', 'SGD', 'SNET', 'TRY', 'USD', 'USDC', 'USDT'}"
      ]
     },
     "execution_count": 16,
     "metadata": {},
     "output_type": "execute_result"
    }
   ],
   "source": [
    "set(b)"
   ]
  },
  {
   "cell_type": "code",
   "execution_count": 1,
   "metadata": {},
   "outputs": [],
   "source": [
    "import api.bybit.REST_Ticker as bybit\n",
    "import api.gate_io.API_Gate_io as gate_io\n",
    "import api.htx.API_HTX as htx\n",
    "import api.kukoin.API_Kukoin as kukoin\n",
    "import threading\n",
    "from queue import Queue\n",
    "import pandas as pd\n",
    "import datetime\n",
    "\n",
    "\n",
    "cur_date = datetime.date.today()\n",
    "cur_time = datetime.datetime.now().time().strftime(\"%H:%M\")\n",
    "\n",
    "q1 = Queue()\n",
    "# q2 = Queue()\n",
    "q3 = Queue()\n",
    "q4 = Queue()    \n",
    "\n",
    "# init threads\n",
    "t1 = threading.Thread(target=bybit.get_data_from_endpoint, args=[q1, cur_date, cur_time])\n",
    "# t2 = threading.Thread(target=gate_io.get_data_from_endpoint, args=[q2, cur_date, cur_time])\n",
    "t3 = threading.Thread(target=htx.get_data_from_endpoint, args=[q3, cur_date, cur_time])\n",
    "t4 = threading.Thread(target=kukoin.get_data_from_endpoint, args=[q4, cur_date, cur_time])\n",
    "\n",
    "# start threads\n",
    "t1.start()\n",
    "# t2.start()\n",
    "t3.start()\n",
    "t4.start()\n",
    "\n",
    "# join threads to the main thread\n",
    "t1.join()\n",
    "# t2.join()\n",
    "t3.join()\n",
    "t4.join()\n",
    "\n",
    "q1 = q1.get()\n",
    "# q2 = q2.get()\n",
    "q3 = q3.get()\n",
    "q4 = q4.get()\n",
    "\n",
    "df1 = pd.DataFrame(q1)\n",
    "df3 = pd.DataFrame(q3)\n",
    "df4 = pd.DataFrame(q4)\n",
    "\n",
    "frames = [df1, df3, df4]\n",
    "df = pd.concat(frames)"
   ]
  },
  {
   "cell_type": "code",
   "execution_count": 40,
   "metadata": {},
   "outputs": [],
   "source": [
    "df_r = df.assign(COUNT=df.groupby(by=['SYMBOL', 'CASH'])['PRICE'].transform('count'))\n",
    "df_r = df_r[df_r.COUNT > 1]\n",
    "df_r = df_r.assign(MIN=df_r.groupby(by=['SYMBOL', 'CASH'])['PRICE'].transform('min'))\n",
    "df_r = df_r.assign(MAX=df_r.groupby(by=['SYMBOL', 'CASH'])['PRICE'].transform('max'))"
   ]
  },
  {
   "cell_type": "code",
   "execution_count": 41,
   "metadata": {},
   "outputs": [],
   "source": [
    "df_r['DIFFER'] = df_r.apply(lambda row: row.MAX - row.MIN, axis = 1)\n",
    "df_r = df_r.sort_values(by=['DIFFER', 'PRICE'], ignore_index=True, ascending=False)"
   ]
  },
  {
   "cell_type": "code",
   "execution_count": 42,
   "metadata": {},
   "outputs": [],
   "source": [
    "df_r = df_r.iloc[:12]"
   ]
  },
  {
   "cell_type": "code",
   "execution_count": 43,
   "metadata": {},
   "outputs": [],
   "source": [
    "df_r = df_r[['DATA', 'TIME', 'MARKET', 'SYMBOL', 'CASH', 'PRICE']]"
   ]
  },
  {
   "cell_type": "code",
   "execution_count": 1,
   "metadata": {},
   "outputs": [
    {
     "ename": "NameError",
     "evalue": "name 'df_r' is not defined",
     "output_type": "error",
     "traceback": [
      "\u001b[0;31m---------------------------------------------------------------------------\u001b[0m",
      "\u001b[0;31mNameError\u001b[0m                                 Traceback (most recent call last)",
      "\u001b[1;32m/home/oem/Desktop/CryptoScan/notebook.ipynb Ячейка 6\u001b[0m line \u001b[0;36m1\n\u001b[0;32m----> <a href='vscode-notebook-cell:/home/oem/Desktop/CryptoScan/notebook.ipynb#W5sZmlsZQ%3D%3D?line=0'>1</a>\u001b[0m df_r\u001b[39m.\u001b[39mgroupby(by\u001b[39m=\u001b[39m[\u001b[39m'\u001b[39m\u001b[39mSYMBOL\u001b[39m\u001b[39m'\u001b[39m, \u001b[39m'\u001b[39m\u001b[39mCASH\u001b[39m\u001b[39m'\u001b[39m])\n",
      "\u001b[0;31mNameError\u001b[0m: name 'df_r' is not defined"
     ]
    }
   ],
   "source": [
    "df_r"
   ]
  }
 ],
 "metadata": {
  "kernelspec": {
   "display_name": "venv",
   "language": "python",
   "name": "python3"
  },
  "language_info": {
   "codemirror_mode": {
    "name": "ipython",
    "version": 3
   },
   "file_extension": ".py",
   "mimetype": "text/x-python",
   "name": "python",
   "nbconvert_exporter": "python",
   "pygments_lexer": "ipython3",
   "version": "3.10.6"
  }
 },
 "nbformat": 4,
 "nbformat_minor": 2
}
